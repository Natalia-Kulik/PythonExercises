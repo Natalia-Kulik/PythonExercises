{
  "cells": [
    {
      "cell_type": "markdown",
      "metadata": {
        "id": "view-in-github",
        "colab_type": "text"
      },
      "source": [
        "<a href=\"https://colab.research.google.com/github/Natalia-Kulik/PythonExercises/blob/main/Copy_of_Exercise002.ipynb\" target=\"_parent\"><img src=\"https://colab.research.google.com/assets/colab-badge.svg\" alt=\"Open In Colab\"/></a>"
      ]
    },
    {
      "cell_type": "markdown",
      "metadata": {
        "id": "YZyevmLCgYPB"
      },
      "source": [
        "# Exercise 002"
      ]
    },
    {
      "cell_type": "markdown",
      "metadata": {
        "tags": [],
        "id": "idtNqXkegYPD"
      },
      "source": [
        "<a href=\"https://colab.research.google.com/github/FAIRChemistry/PythonProgrammingBio24/blob/main/exercises/Exercise002.ipynb\" target=\"_parent\"><img src=\"https://colab.research.google.com/assets/colab-badge.svg\" alt=\"Open In Colab\"/></a>"
      ]
    },
    {
      "cell_type": "code",
      "source": [
        "# Please execute this cell to download the necessary data\n",
        "!wget https://raw.githubusercontent.com/JR-1991/PythonProgrammingBio24/main/data/archaea_sequences.fasta\n",
        "!wget https://raw.githubusercontent.com/JR-1991/PythonProgrammingBio24/main/data/ecoli_sequences.fasta\n",
        "!wget https://raw.githubusercontent.com/JR-1991/PythonProgrammingBio24/main/data/plant_sequences.fasta"
      ],
      "metadata": {
        "id": "gT8TQT1ZgZO6",
        "colab": {
          "base_uri": "https://localhost:8080/"
        },
        "outputId": "4f014f09-60aa-4c4c-b045-6382e87e69c0"
      },
      "execution_count": 2,
      "outputs": [
        {
          "output_type": "stream",
          "name": "stdout",
          "text": [
            "--2024-04-23 04:53:12--  https://raw.githubusercontent.com/JR-1991/PythonProgrammingBio24/main/data/archaea_sequences.fasta\n",
            "Resolving raw.githubusercontent.com (raw.githubusercontent.com)... 185.199.110.133, 185.199.111.133, 185.199.108.133, ...\n",
            "Connecting to raw.githubusercontent.com (raw.githubusercontent.com)|185.199.110.133|:443... connected.\n",
            "HTTP request sent, awaiting response... 200 OK\n",
            "Length: 981897 (959K) [text/plain]\n",
            "Saving to: ‘archaea_sequences.fasta’\n",
            "\n",
            "archaea_sequences.f 100%[===================>] 958.88K  --.-KB/s    in 0.05s   \n",
            "\n",
            "2024-04-23 04:53:13 (19.7 MB/s) - ‘archaea_sequences.fasta’ saved [981897/981897]\n",
            "\n",
            "--2024-04-23 04:53:13--  https://raw.githubusercontent.com/JR-1991/PythonProgrammingBio24/main/data/ecoli_sequences.fasta\n",
            "Resolving raw.githubusercontent.com (raw.githubusercontent.com)... 185.199.110.133, 185.199.111.133, 185.199.109.133, ...\n",
            "Connecting to raw.githubusercontent.com (raw.githubusercontent.com)|185.199.110.133|:443... connected.\n",
            "HTTP request sent, awaiting response... 200 OK\n",
            "Length: 973341 (951K) [text/plain]\n",
            "Saving to: ‘ecoli_sequences.fasta’\n",
            "\n",
            "ecoli_sequences.fas 100%[===================>] 950.53K  --.-KB/s    in 0.05s   \n",
            "\n",
            "2024-04-23 04:53:13 (19.4 MB/s) - ‘ecoli_sequences.fasta’ saved [973341/973341]\n",
            "\n",
            "--2024-04-23 04:53:13--  https://raw.githubusercontent.com/JR-1991/PythonProgrammingBio24/main/data/plant_sequences.fasta\n",
            "Resolving raw.githubusercontent.com (raw.githubusercontent.com)... 185.199.108.133, 185.199.109.133, 185.199.110.133, ...\n",
            "Connecting to raw.githubusercontent.com (raw.githubusercontent.com)|185.199.108.133|:443... connected.\n",
            "HTTP request sent, awaiting response... 200 OK\n",
            "Length: 991077 (968K) [text/plain]\n",
            "Saving to: ‘plant_sequences.fasta’\n",
            "\n",
            "plant_sequences.fas 100%[===================>] 967.85K  --.-KB/s    in 0.05s   \n",
            "\n",
            "2024-04-23 04:53:14 (19.4 MB/s) - ‘plant_sequences.fasta’ saved [991077/991077]\n",
            "\n"
          ]
        }
      ]
    },
    {
      "cell_type": "markdown",
      "metadata": {
        "id": "oknDf6p0gYPD"
      },
      "source": [
        "## Reading a FASTA file\n",
        "\n",
        "Write a parser thats reads and processes a FASTA file called `ecoli_sequences.fasta` into a list named `ecoli`. Repeat the process for the files `archaea_sequences.fasta` and `plant_sequences.fasta`. Make sure to name the resulting variables appropriately to ensure clean code principles.\n",
        "\n",
        "-----\n",
        "**Tips**\n",
        "\n",
        "> * FASTA files follow a stringent structure: Header first, followed by the actual sequence. Inspect the file using print to find a pattern.\n",
        "> * Try using functions to solve the problem. While not mandatory, it can save code lines and generalize a concept such as a FASTA parser. Click [here](https://www.w3schools.com/python/python_functions.asp) for more on Python functions.\n",
        "> * When typing a file name, hit tab on your keyboard to auto-complete. Makes life easier ☺️*\n",
        "\n",
        "**FASTA Schema**\n",
        "\n",
        "```\n",
        "0 | >Header1\n",
        "1 | Sequence1\n",
        "2 | >Header2\n",
        "3 | Sequence2\n",
        "```"
      ]
    },
    {
      "cell_type": "markdown",
      "source": [
        "Create simple list with lines separated by coma"
      ],
      "metadata": {
        "id": "O7m9wKX5dJMd"
      }
    },
    {
      "cell_type": "code",
      "execution_count": null,
      "metadata": {
        "tags": [],
        "id": "L4BeH5Y8gYPD"
      },
      "outputs": [],
      "source": [
        "ecoli_list = []\n",
        "\n",
        "with open(\"ecoli_sequences.fasta\", \"r\") as file:\n",
        "    lines = file.readlines()\n",
        "    for i in range(0, len(lines), 2):\n",
        "        if i + 1 < len(lines):\n",
        "            ecoli_list.append(lines[i].strip()+\" \"+lines[i + 1].strip())\n",
        "\n",
        "print(ecoli_list)\n"
      ]
    },
    {
      "cell_type": "markdown",
      "source": [
        "Create** list tuple** with tuple representing header followed by sequense, separated by empty space."
      ],
      "metadata": {
        "id": "pHrRh0HKdP0s"
      }
    },
    {
      "cell_type": "code",
      "execution_count": null,
      "metadata": {
        "tags": [],
        "id": "rwrDtqltYiRQ"
      },
      "outputs": [],
      "source": [
        "ecoli_list = []\n",
        "with open(\"ecoli_sequences.fasta\", \"r\") as file:\n",
        "    lines = file.readlines()\n",
        "    for i in range(0, len(lines), 2):\n",
        "        if i + 1 < len(lines):\n",
        "            ecoli_list.append((lines[i].strip(), lines[i + 1].strip()))\n",
        "for header, seq in ecoli_list:\n",
        "\n",
        "    print(header, seq)\n",
        "\n",
        "archaea_list = []\n",
        "with open(\"archaea_sequences.fasta\", \"r\") as file:\n",
        "    lines = file.readlines()\n",
        "    for i in range(0, len(lines), 2):\n",
        "        if i + 1 < len(lines):\n",
        "            archaea_list.append((lines[i].strip(), lines[i + 1].strip()))\n",
        "for header, seq in archaea_list:\n",
        "    print(header, seq)\n",
        "\n",
        "plant_list = []\n",
        "with open(\"plant_sequences.fasta\", \"r\") as file:\n",
        "    lines = file.readlines()\n",
        "    for i in range(0, len(lines), 2):\n",
        "        if i + 1 < len(lines):\n",
        "            plant_list.append((lines[i].strip(), lines[i + 1].strip()))\n",
        "for header, seq in plant_list:\n",
        "    print(header, seq)\n"
      ]
    },
    {
      "cell_type": "markdown",
      "source": [
        "Create tuple list with definition of a function"
      ],
      "metadata": {
        "id": "VPIEylS1cRt8"
      }
    },
    {
      "cell_type": "code",
      "source": [
        "def create_fasta_list(fasta_file, list_name):\n",
        "  list_name = []\n",
        "  with open(fasta_file, \"r\") as file:\n",
        "      lines = file.readlines()\n",
        "      for i in range(0, len(lines), 2):\n",
        "          if i + 1 < len(lines):\n",
        "              list_name.append((lines[i].strip(), lines[i + 1].strip()))\n",
        "\n",
        "create_fasta_list(\"ecoli_sequences.fasta\", ecoli_list)\n",
        "for header, seq in ecoli_list:\n",
        "    print(header, seq)\n",
        "\n",
        "create_fasta_list(\"archaea_sequences.fasta\", archaea_list)\n",
        "for header, seq in archaea_list:\n",
        "    print(header, seq)\n",
        "\n",
        "create_fasta_list(\"plant_sequences.fasta\", plant_list)\n",
        "for header, seq in plant_list:\n",
        "    print(header, seq)"
      ],
      "metadata": {
        "id": "Dq1cQqbBb3ty"
      },
      "execution_count": null,
      "outputs": []
    },
    {
      "cell_type": "markdown",
      "metadata": {
        "id": "Jt2Zh1FUgYPE"
      },
      "source": [
        "## Writing of a FASTA file"
      ]
    },
    {
      "cell_type": "markdown",
      "metadata": {
        "id": "bJAdsjatgYPE"
      },
      "source": [
        "Write all three lists that you've just created using your parser to a new FASTA file called `all_sequences.fasta`. When merging your data into a single file, make sure to assign a header for each sequence that includes information about the organism and an appropriate identifier. Be careful for duplicate headers, each one should be unique.\n",
        "\n",
        "Finally, inspect your file manually. Did everything went as expected?\n",
        "\n",
        "-----\n",
        "\n",
        "**Tips**\n",
        "\n",
        "> * Try using functions to solve the problem. While not mandatory, it can save code lines and generalize a concept such as a FASTA parser. Click [here](https://www.w3schools.com/python/python_functions.asp) for more on Python functions.\n",
        "> * Close the file when everything has been done or make use of a [context manager](https://www.pythontutorial.net/advanced-python/python-context-managers/).\n",
        "> * Use string formatting to insert variables to your header! Click [here](https://www.programiz.com/python-programming/string-interpolation) for more information.\n",
        "\n",
        "**String formatting**\n",
        "\n",
        "```python\n",
        "variable1, variable2 = \"Hello\", \"World\"\n",
        "my_string = f\"{variable1}_{variable2}\"\n",
        "\n",
        "print(my_string)  \n",
        "\n",
        "# prints \"Hello_World\"\n",
        "```"
      ]
    },
    {
      "cell_type": "code",
      "execution_count": null,
      "metadata": {
        "id": "P5aULW_3gYPE"
      },
      "outputs": [],
      "source": [
        "# Enter your code here"
      ]
    },
    {
      "cell_type": "markdown",
      "metadata": {
        "id": "fRNITBDngYPE"
      },
      "source": [
        "## Programmers ~can be~ are lazy!\n",
        "\n",
        "Accoding to Larry Wall, creator of the programming language Perl, programmers are lazy. Python is one of the best supported programming languages in terms of packages and thats one of the major appeals of using Python. Thus, to know how and where to look for third-party software is essential to an efficient development process.\n",
        "\n",
        "Remember, you dont have to re-invent the wheel to be good at programming.\n",
        "\n",
        "Can you find a package that could have helped you in this exercise?"
      ]
    },
    {
      "cell_type": "code",
      "execution_count": null,
      "metadata": {
        "tags": [],
        "id": "z_3whCW5gYPE"
      },
      "outputs": [],
      "source": [
        "# Enter your answer or code"
      ]
    }
  ],
  "metadata": {
    "kernelspec": {
      "display_name": "Python 3 (ipykernel)",
      "language": "python",
      "name": "python3"
    },
    "language_info": {
      "codemirror_mode": {
        "name": "ipython",
        "version": 3
      },
      "file_extension": ".py",
      "mimetype": "text/x-python",
      "name": "python",
      "nbconvert_exporter": "python",
      "pygments_lexer": "ipython3",
      "version": "3.11.5"
    },
    "colab": {
      "provenance": [],
      "include_colab_link": true
    }
  },
  "nbformat": 4,
  "nbformat_minor": 0
}