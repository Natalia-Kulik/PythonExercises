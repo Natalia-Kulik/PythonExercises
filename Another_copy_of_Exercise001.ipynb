{
  "cells": [
    {
      "cell_type": "markdown",
      "metadata": {
        "id": "view-in-github",
        "colab_type": "text"
      },
      "source": [
        "<a href=\"https://colab.research.google.com/github/Natalia-Kulik/PythonExercises/blob/Exercises1/Another_copy_of_Exercise001.ipynb\" target=\"_parent\"><img src=\"https://colab.research.google.com/assets/colab-badge.svg\" alt=\"Open In Colab\"/></a>"
      ]
    },
    {
      "cell_type": "markdown",
      "id": "62fde28e-9a8d-423c-9b47-93292fb29a48",
      "metadata": {
        "id": "62fde28e-9a8d-423c-9b47-93292fb29a48"
      },
      "source": [
        "# Exercise 001"
      ]
    },
    {
      "cell_type": "markdown",
      "id": "6edfb079",
      "metadata": {
        "id": "6edfb079"
      },
      "source": [
        "<a href=\"https://colab.research.google.com/github/JR-1991/PythonProgrammingBio24/blob/main/solutions/Exercise001.ipynb\" target=\"_parent\"><img src=\"https://colab.research.google.com/assets/colab-badge.svg\" alt=\"Open In Colab\"/></a>"
      ]
    },
    {
      "cell_type": "markdown",
      "id": "66482492-90ce-4977-b188-cb5b29d63b63",
      "metadata": {
        "id": "66482492-90ce-4977-b188-cb5b29d63b63"
      },
      "source": [
        "## Variables and Printing\n",
        "\n",
        "Store the string `Hello World` in a variable with name `first_variable` and print it."
      ]
    },
    {
      "cell_type": "code",
      "execution_count": null,
      "id": "b4fc441d-d850-4c84-b0f1-3b935114fb2b",
      "metadata": {
        "id": "b4fc441d-d850-4c84-b0f1-3b935114fb2b",
        "tags": []
      },
      "outputs": [],
      "source": [
        "first_variable = \"Hello World\""
      ]
    },
    {
      "cell_type": "markdown",
      "id": "51d35861-edbf-417f-8c0a-5b3fdb9223c1",
      "metadata": {
        "id": "51d35861-edbf-417f-8c0a-5b3fdb9223c1"
      },
      "source": [
        "## For-Loops\n",
        "\n",
        "Count from `1` to `10` by using a for loop, store each value in a variable value and print it. Use the range-function to help you.\n",
        "\n",
        "*Tip: Typically programming languages start by counting from zero. Make sure that the range-function starts correctly.*"
      ]
    },
    {
      "cell_type": "code",
      "execution_count": null,
      "id": "b9207a11-fd3f-4020-9a9c-38b072abb1bc",
      "metadata": {
        "colab": {
          "base_uri": "https://localhost:8080/"
        },
        "id": "b9207a11-fd3f-4020-9a9c-38b072abb1bc",
        "outputId": "3d6ae489-9a66-491b-e177-4b8ffd588931"
      },
      "outputs": [
        {
          "name": "stdout",
          "output_type": "stream",
          "text": [
            "0\n",
            "1\n",
            "2\n",
            "3\n",
            "4\n",
            "5\n",
            "6\n",
            "7\n",
            "8\n",
            "9\n",
            "10\n"
          ]
        }
      ],
      "source": [
        "for number in range(0, 11):\n",
        "  print(number)"
      ]
    },
    {
      "cell_type": "markdown",
      "id": "75b5dbf6-b604-45ab-a3ca-8a19278ee895",
      "metadata": {
        "id": "75b5dbf6-b604-45ab-a3ca-8a19278ee895"
      },
      "source": [
        "## While-Loops\n",
        "\n",
        "Repeat the previous task using a while-loop.\n",
        "\n",
        "*Tip: While-Loops are closed by a condition, so make sure that the loop is stopped at the end.*"
      ]
    },
    {
      "cell_type": "code",
      "execution_count": null,
      "id": "ab066609-2e4d-484d-871b-f147dd71c072",
      "metadata": {
        "colab": {
          "base_uri": "https://localhost:8080/"
        },
        "id": "ab066609-2e4d-484d-871b-f147dd71c072",
        "outputId": "2611010f-a991-4b82-82b2-379491a9a26e"
      },
      "outputs": [
        {
          "name": "stdout",
          "output_type": "stream",
          "text": [
            "0\n",
            "1\n",
            "2\n",
            "3\n",
            "4\n",
            "5\n",
            "6\n",
            "7\n",
            "8\n",
            "9\n",
            "10\n"
          ]
        }
      ],
      "source": [
        "number = 0\n",
        "while number <= 10:\n",
        "  print(number)\n",
        "  number += 1"
      ]
    },
    {
      "cell_type": "markdown",
      "id": "a1fd0d0b-408a-4119-99cc-83e420c05870",
      "metadata": {
        "id": "a1fd0d0b-408a-4119-99cc-83e420c05870"
      },
      "source": [
        "## Conditional statements\n",
        "\n",
        "Count from `1` to `10` using a for-loop, store each value in variable value and distinguish whether a number is odd or even. Print each result and modify the print to display whether the number is odd or even as well as the number itself:\n",
        "\n",
        "Example:\n",
        "\n",
        "```python\n",
        "print(\"odd\", 1)\n",
        "```\n",
        "\n",
        "*Tip: Use the modulo-function using the `%`-operator. It behaves similar to any other operator and returns the remainder of the division.*\n",
        "\n",
        "```python\n",
        "5 % 5 = 0\n",
        "```"
      ]
    },
    {
      "cell_type": "code",
      "execution_count": null,
      "id": "1fd84545-d8e1-4504-8250-cb3c44406eb0",
      "metadata": {
        "colab": {
          "base_uri": "https://localhost:8080/"
        },
        "id": "1fd84545-d8e1-4504-8250-cb3c44406eb0",
        "outputId": "c8795aa6-da43-4f2c-fae1-9b1768b17d1a"
      },
      "outputs": [
        {
          "output_type": "stream",
          "name": "stdout",
          "text": [
            "even 0\n",
            "odd 1\n",
            "even 2\n",
            "odd 3\n",
            "even 4\n",
            "odd 5\n",
            "even 6\n",
            "odd 7\n",
            "even 8\n",
            "odd 9\n",
            "even 10\n"
          ]
        }
      ],
      "source": [
        "for number in range (0,11):\n",
        "    if number%2==0:\n",
        "      print (\"even\", number )\n",
        "    else:\n",
        "      print (\"odd\", number)"
      ]
    },
    {
      "cell_type": "markdown",
      "id": "1055c857-a179-4807-9de9-ed5cd5b0ee0c",
      "metadata": {
        "id": "1055c857-a179-4807-9de9-ed5cd5b0ee0c"
      },
      "source": [
        "## Lists #1\n",
        "\n",
        "Store the numbers `1` to `5` in a list under the variable `my_list` and print it. Finally, add the first and last element of the list and print the result."
      ]
    },
    {
      "cell_type": "code",
      "execution_count": null,
      "id": "fe7cc982-1a4a-4dfe-948f-cb91d915261d",
      "metadata": {
        "colab": {
          "base_uri": "https://localhost:8080/"
        },
        "id": "fe7cc982-1a4a-4dfe-948f-cb91d915261d",
        "outputId": "1925c6e6-9110-4c8c-b839-70f3ad3bad4b"
      },
      "outputs": [
        {
          "output_type": "stream",
          "name": "stdout",
          "text": [
            "[1, 2, 3, 4, 5]\n",
            "6\n"
          ]
        }
      ],
      "source": [
        "my_list = [1,2,3,4,5]\n",
        "print (my_list)\n",
        "print(my_list[0]+my_list[-1])"
      ]
    },
    {
      "cell_type": "markdown",
      "id": "d96d4dd9-f18d-4be1-9942-affa3fd4b54c",
      "metadata": {
        "id": "d96d4dd9-f18d-4be1-9942-affa3fd4b54c"
      },
      "source": [
        "## Lists #2\n",
        "\n",
        "Store the number `0` to `49` in a list under variabl `my_list`. Now sort the list in two new lists `even` and `odd`, where each list contains even and odd number from `my_list` respectively. Finally, print both lists.\n",
        "\n",
        "*Tip: So called [list comprehensions](https://www.w3schools.com/python/python_lists_comprehension.asp) unify the concept of a list and a for-loop into a single line. In addtion, you can add conditions that help only to include those value in a list, that meet the conditions.*"
      ]
    },
    {
      "cell_type": "code",
      "execution_count": null,
      "id": "b1d9aa0d-e251-471a-b2cc-8fa9e2cb3c47",
      "metadata": {
        "colab": {
          "base_uri": "https://localhost:8080/"
        },
        "id": "b1d9aa0d-e251-471a-b2cc-8fa9e2cb3c47",
        "outputId": "b5b28f11-eae4-4c77-af9d-23d6a1bb16f0"
      },
      "outputs": [
        {
          "output_type": "stream",
          "name": "stdout",
          "text": [
            "[0, 1, 2, 3, 4, 5, 6, 7, 8, 9, 10, 11, 12, 13, 14, 15, 16, 17, 18, 19, 20, 21, 22, 23, 24, 25, 26, 27, 28, 29, 30, 31, 32, 33, 34, 35, 36, 37, 38, 39, 40, 41, 42, 43, 44, 45, 46, 47, 48, 49]\n",
            "even: [0, 2, 4, 6, 8, 10, 12, 14, 16, 18, 20, 22, 24, 26, 28, 30, 32, 34, 36, 38, 40, 42, 44, 46, 48]\n",
            "odd: [1, 3, 5, 7, 9, 11, 13, 15, 17, 19, 21, 23, 25, 27, 29, 31, 33, 35, 37, 39, 41, 43, 45, 47, 49]\n"
          ]
        }
      ],
      "source": [
        "newlist = []\n",
        "for number in range (0,50):\n",
        "  newlist.append (number)\n",
        "print (newlist)\n",
        "\n",
        "even, odd = [],[]\n",
        "for number in newlist:\n",
        "  if number%2 == 0:\n",
        "    even.append(number)\n",
        "  else:\n",
        "    odd.append(number)\n",
        "print (\"even:\", even)\n",
        "print(\"odd:\", odd)\n",
        "\n"
      ]
    },
    {
      "cell_type": "markdown",
      "id": "e148d496-d1c5-4437-836d-6357a1db3c44",
      "metadata": {
        "id": "e148d496-d1c5-4437-836d-6357a1db3c44"
      },
      "source": [
        "## Dictionaries\n",
        "\n",
        "Store both of the previous lists `even` and `odd` in a dictionary by mapping each list using the keys `even` and `odd`. In addition, add a new list which contains all numbers in `my_list` that are divisible by `3` using the dictionary key `by_three`. Finally, print the dicitonary to inspect its content."
      ]
    },
    {
      "cell_type": "code",
      "execution_count": null,
      "id": "69f78e2f-b49f-46b7-bd35-58f640f5fc85",
      "metadata": {
        "colab": {
          "base_uri": "https://localhost:8080/",
          "height": 211
        },
        "id": "69f78e2f-b49f-46b7-bd35-58f640f5fc85",
        "outputId": "02a3453b-be09-4e04-9a45-d006d53b9d13"
      },
      "outputs": [
        {
          "output_type": "stream",
          "name": "stdout",
          "text": [
            "{'odd': [1, 3, 5, 7, 9, 11, 13, 15, 17, 19, 21, 23, 25, 27, 29, 31, 33, 35, 37, 39, 41, 43, 45, 47, 49]}\n"
          ]
        },
        {
          "output_type": "error",
          "ename": "TypeError",
          "evalue": "unsupported operand type(s) for +: 'dict' and 'dict'",
          "traceback": [
            "\u001b[0;31m---------------------------------------------------------------------------\u001b[0m",
            "\u001b[0;31mTypeError\u001b[0m                                 Traceback (most recent call last)",
            "\u001b[0;32m<ipython-input-13-c5bd8542a07b>\u001b[0m in \u001b[0;36m<cell line: 5>\u001b[0;34m()\u001b[0m\n\u001b[1;32m      3\u001b[0m \u001b[0mprint\u001b[0m \u001b[0;34m(\u001b[0m\u001b[0modd_dict\u001b[0m\u001b[0;34m)\u001b[0m\u001b[0;34m\u001b[0m\u001b[0;34m\u001b[0m\u001b[0m\n\u001b[1;32m      4\u001b[0m \u001b[0;34m\u001b[0m\u001b[0m\n\u001b[0;32m----> 5\u001b[0;31m \u001b[0mfull_dict\u001b[0m \u001b[0;34m=\u001b[0m \u001b[0modd_dict\u001b[0m\u001b[0;34m+\u001b[0m\u001b[0meven_dict\u001b[0m\u001b[0;34m\u001b[0m\u001b[0;34m\u001b[0m\u001b[0m\n\u001b[0m\u001b[1;32m      6\u001b[0m \u001b[0mprint\u001b[0m \u001b[0;34m(\u001b[0m\u001b[0mfull_dict\u001b[0m\u001b[0;34m)\u001b[0m\u001b[0;34m\u001b[0m\u001b[0;34m\u001b[0m\u001b[0m\n",
            "\u001b[0;31mTypeError\u001b[0m: unsupported operand type(s) for +: 'dict' and 'dict'"
          ]
        }
      ],
      "source": [
        "odd_dict = {\"odd\":odd}\n",
        "even_dict = {\"even\":even}\n",
        "print (odd_dict)\n",
        "\n",
        "my_list []\n",
        "for numer in\n"
      ]
    },
    {
      "cell_type": "markdown",
      "id": "f67cc6e7-5edb-4e6a-bc50-87cc90292ac1",
      "metadata": {
        "id": "f67cc6e7-5edb-4e6a-bc50-87cc90292ac1"
      },
      "source": [
        "## Reading and writing of files (Optional)\n",
        "\n",
        "Write out all numbers found in `even` to a file called `even.txt`. Next, read the same file and save the result in a new list called `new_list`. Finally, add the first and third entry of the list. Does it work? If not, can you find an explanation?\n",
        "\n",
        "*Tip: When writing to a file, Python does exactly what its told. So make sure to include newlines `\\n` after writing each number. Otherwise, reading it correctly will be impossible.*\n",
        "\n",
        "*Tip: Newlines `\\n` will also be read and can be removed upon parsing of a line by using `line.strip()`, where line is the string on which you'd like to remove the newline.*\n",
        "\n",
        "*Tip: Using the open-function facilitates writing and reading of a file. There are ways to shorten your work. See the following examples:*\n",
        "\n",
        "```python\n",
        "# Write to a file\n",
        "with open(\"example.txt\", \"w\") as file:\n",
        "\n",
        "    for value in my_list:\n",
        "        file.write(\"Example\")\n",
        "\n",
        "# Read from a file\n",
        "example = [ line.strip() for line in open(\"example.txt\", \"r\").readlines() ]\n",
        "```"
      ]
    },
    {
      "cell_type": "code",
      "execution_count": null,
      "id": "3102e2a2-8963-4f2f-8410-3d7b8ab33c76",
      "metadata": {
        "colab": {
          "base_uri": "https://localhost:8080/"
        },
        "id": "3102e2a2-8963-4f2f-8410-3d7b8ab33c76",
        "outputId": "f10bf489-23ce-4b0d-e702-14c108cad361"
      },
      "outputs": [
        {
          "name": "stdout",
          "output_type": "stream",
          "text": [
            "Addition of first and last:  048\n",
            "Entry types:  <class 'str'>\n",
            "\n",
            "Type casted - Addition of first and last:  48\n",
            "Entry types:  <class 'int'>\n"
          ]
        }
      ],
      "source": [
        "# Writing the file\n",
        "with open(\"even.txt\", \"w\") as f:\n",
        "  for number in even:\n",
        "    f.write(f\"{number}\\n\")\n",
        "\n",
        "# Reading the file (using a list comprehension)\n",
        "my_list = [line.strip() for line in open(\"even.txt\").readlines()]\n",
        "\n",
        "print(\"Addition of first and last: \", my_list[0] + my_list[-1])\n",
        "print(\"Entry types: \", type(my_list[0]))\n",
        "\n",
        "# We need to modify our code!\n",
        "my_list = [\n",
        "    int(line.strip()) # Type-cast to an integer\n",
        "    for line in open(\"even.txt\").readlines()\n",
        "]\n",
        "\n",
        "print(\"\\nType casted - Addition of first and last: \", my_list[0] + my_list[-1])\n",
        "print(\"Entry types: \", type(my_list[0]))"
      ]
    }
  ],
  "metadata": {
    "colab": {
      "provenance": [],
      "include_colab_link": true
    },
    "kernelspec": {
      "display_name": "Python 3 (ipykernel)",
      "language": "python",
      "name": "python3"
    },
    "language_info": {
      "codemirror_mode": {
        "name": "ipython",
        "version": 3
      },
      "file_extension": ".py",
      "mimetype": "text/x-python",
      "name": "python",
      "nbconvert_exporter": "python",
      "pygments_lexer": "ipython3",
      "version": "3.11.5"
    }
  },
  "nbformat": 4,
  "nbformat_minor": 5
}