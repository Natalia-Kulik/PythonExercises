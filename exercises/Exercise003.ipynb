{
  "cells": [
    {
      "cell_type": "markdown",
      "metadata": {
        "id": "YZyevmLCgYPB"
      },
      "source": [
        "# Exercise 003"
      ]
    },
    {
      "cell_type": "markdown",
      "metadata": {
        "id": "idtNqXkegYPD",
        "tags": []
      },
      "source": [
        "<a href=\"https://colab.research.google.com/github/FAIRChemistry/PythonProgrammingBio24/blob/main/solutions/Exercise003.ipynb\" target=\"_parent\"><img src=\"https://colab.research.google.com/assets/colab-badge.svg\" alt=\"Open In Colab\"/></a>"
      ]
    },
    {
      "cell_type": "code",
      "execution_count": null,
      "metadata": {
        "id": "gT8TQT1ZgZO6",
        "tags": []
      },
      "outputs": [],
      "source": [
        "# Please execute this cell to download the necessary data\n",
        "!wget https://raw.githubusercontent.com/JR-1991/PythonProgrammingBio24/main/scripts/utils.py\n",
        "!wget https://raw.githubusercontent.com/JR-1991/PythonProgrammingBio24/main/data/all_sequences.fasta"
      ]
    },
    {
      "cell_type": "markdown",
      "metadata": {
        "id": "fk_o_sRT0v-0"
      },
      "source": [
        "## Determination of sequences lengths"
      ]
    },
    {
      "cell_type": "markdown",
      "metadata": {
        "id": "WtrAzsNH0v-1"
      },
      "source": [
        "Load the FASTA file `all_sequences.fasta` by using your own FASTA reader or `biopython` from the last exercise. Save all sequences in a list called `sequences` for the following exercises. Now determine the length of all sequences and store the result in a new list called `sequence_lengths`. Finally, print the lowest and highest value in this list."
      ]
    },
    {
      "cell_type": "code",
      "execution_count": null,
      "metadata": {
        "tags": [],
        "id": "B9VB6NmM0v-1"
      },
      "outputs": [],
      "source": [
        "# Enter Code here"
      ]
    },
    {
      "cell_type": "markdown",
      "metadata": {
        "id": "glP6GiJB0v-2"
      },
      "source": [
        "## Calculation of the GC-Content\n",
        "\n",
        "Now calculate the GC-Content for each sequence by counting `G` and `C` respectively and divide the sum of both numbers by the sequence length. Store the result for each sequence in a list called `gc_content` and print the highest and lowest value of that list.\n",
        "\n",
        "**Tips**\n",
        "\n",
        "> * Each string has internal functions that for instance can be used to count specific characters. Make use of it!"
      ]
    },
    {
      "cell_type": "code",
      "execution_count": null,
      "metadata": {
        "tags": [],
        "id": "YPfADnUJ0v-2"
      },
      "outputs": [],
      "source": [
        "# Enter Code here"
      ]
    },
    {
      "cell_type": "markdown",
      "metadata": {
        "id": "NIzNwnIN0v-3"
      },
      "source": [
        "## Translation of a DNA sequence\n",
        "\n",
        "Translate each sequence into its respective amino acid sequence. In order to do that, start by splitting the sequences into triplets. Now use these triplets and construct a new sequence by assigning the corrsponding amino acid. Store the result in a new list called `proteins` and print a single sequence of your choice.\n",
        "\n",
        "There is a helper function `to_triplets` that will take care of splitting a gene into its respective triplets. In order to convert the triplets, use the dictionary `CODON_TABLE` which maps from triplet to amino acid.\n",
        "\n",
        "**Tips**\n",
        "\n",
        "> * Initially you have downloaded the `utils.py` file which contains both the function and codon table. Inspect the content of the file to read the docstring of the `to_triplets` function and the structure of `CODON_TABLE`."
      ]
    },
    {
      "cell_type": "code",
      "execution_count": null,
      "metadata": {
        "tags": [],
        "id": "AVc2ASRg0v-4"
      },
      "outputs": [],
      "source": [
        "from utils import to_triplets, CODON_TABLE"
      ]
    },
    {
      "cell_type": "code",
      "execution_count": null,
      "metadata": {
        "tags": [],
        "id": "eoEoMHNn0v-4"
      },
      "outputs": [],
      "source": [
        "# Enter code here"
      ]
    }
  ],
  "metadata": {
    "colab": {
      "provenance": []
    },
    "kernelspec": {
      "display_name": "Python 3 (ipykernel)",
      "language": "python",
      "name": "python3"
    },
    "language_info": {
      "codemirror_mode": {
        "name": "ipython",
        "version": 3
      },
      "file_extension": ".py",
      "mimetype": "text/x-python",
      "name": "python",
      "nbconvert_exporter": "python",
      "pygments_lexer": "ipython3",
      "version": "3.11.5"
    }
  },
  "nbformat": 4,
  "nbformat_minor": 0
}