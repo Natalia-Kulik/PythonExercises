{
  "cells": [
    {
      "cell_type": "markdown",
      "metadata": {
        "id": "YZyevmLCgYPB"
      },
      "source": [
        "# Exercise 002"
      ]
    },
    {
      "cell_type": "markdown",
      "metadata": {
        "tags": [],
        "id": "idtNqXkegYPD"
      },
      "source": [
        "<a href=\"https://colab.research.google.com/github/FAIRChemistry/PythonProgrammingBio24/blob/main/exercises/Exercise002.ipynb\" target=\"_parent\"><img src=\"https://colab.research.google.com/assets/colab-badge.svg\" alt=\"Open In Colab\"/></a>"
      ]
    },
    {
      "cell_type": "code",
      "source": [
        "# Please execute this cell to download the necessary data\n",
        "!wget https://raw.githubusercontent.com/JR-1991/PythonProgrammingBio24/main/data/archaea_sequences.fasta\n",
        "!wget https://raw.githubusercontent.com/JR-1991/PythonProgrammingBio24/main/data/ecoli_sequences.fasta\n",
        "!wget https://raw.githubusercontent.com/JR-1991/PythonProgrammingBio24/main/data/plant_sequences.fasta"
      ],
      "metadata": {
        "id": "gT8TQT1ZgZO6"
      },
      "execution_count": null,
      "outputs": []
    },
    {
      "cell_type": "markdown",
      "metadata": {
        "id": "oknDf6p0gYPD"
      },
      "source": [
        "## Reading a FASTA file\n",
        "\n",
        "Write a parser thats reads and processes a FASTA file called `ecoli_sequences.fasta` into a list named `ecoli`. Repeat the process for the files `archaea_sequences.fasta` and `plant_sequences.fasta`. Make sure to name the resulting variables appropriately to ensure clean code principles.\n",
        "\n",
        "-----\n",
        "**Tips**\n",
        "\n",
        "> * FASTA files follow a stringent structure: Header first, followed by the actual sequence. Inspect the file using print to find a pattern.\n",
        "> * Try using functions to solve the problem. While not mandatory, it can save code lines and generalize a concept such as a FASTA parser. Click [here](https://www.w3schools.com/python/python_functions.asp) for more on Python functions.\n",
        "> * When typing a file name, hit tab on your keyboard to auto-complete. Makes life easier ☺️*\n",
        "\n",
        "**FASTA Schema**\n",
        "\n",
        "```\n",
        "0 | >Header1\n",
        "1 | Sequence1\n",
        "2 | >Header2\n",
        "3 | Sequence2\n",
        "```"
      ]
    },
    {
      "cell_type": "code",
      "execution_count": null,
      "metadata": {
        "tags": [],
        "id": "L4BeH5Y8gYPD"
      },
      "outputs": [],
      "source": [
        "# Enter your code here"
      ]
    },
    {
      "cell_type": "markdown",
      "metadata": {
        "id": "Jt2Zh1FUgYPE"
      },
      "source": [
        "## Writing of a FASTA file"
      ]
    },
    {
      "cell_type": "markdown",
      "metadata": {
        "id": "bJAdsjatgYPE"
      },
      "source": [
        "Write all three lists that you've just created using your parser to a new FASTA file called `all_sequences.fasta`. When merging your data into a single file, make sure to assign a header for each sequence that includes information about the organism and an appropriate identifier. Be careful for duplicate headers, each one should be unique.\n",
        "\n",
        "Finally, inspect your file manually. Did everything went as expected?\n",
        "\n",
        "-----\n",
        "\n",
        "**Tips**\n",
        "\n",
        "> * Try using functions to solve the problem. While not mandatory, it can save code lines and generalize a concept such as a FASTA parser. Click [here](https://www.w3schools.com/python/python_functions.asp) for more on Python functions.\n",
        "> * Close the file when everything has been done or make use of a [context manager](https://www.pythontutorial.net/advanced-python/python-context-managers/).\n",
        "> * Use string formatting to insert variables to your header! Click [here](https://www.programiz.com/python-programming/string-interpolation) for more information.\n",
        "\n",
        "**String formatting**\n",
        "\n",
        "```python\n",
        "variable1, variable2 = \"Hello\", \"World\"\n",
        "my_string = f\"{variable1}_{variable2}\"\n",
        "\n",
        "print(my_string)  \n",
        "\n",
        "# prints \"Hello_World\"\n",
        "```"
      ]
    },
    {
      "cell_type": "code",
      "execution_count": null,
      "metadata": {
        "id": "P5aULW_3gYPE"
      },
      "outputs": [],
      "source": [
        "# Enter your code here"
      ]
    },
    {
      "cell_type": "markdown",
      "metadata": {
        "id": "fRNITBDngYPE"
      },
      "source": [
        "## Programmers ~can be~ are lazy!\n",
        "\n",
        "Accoding to Larry Wall, creator of the programming language Perl, programmers are lazy. Python is one of the best supported programming languages in terms of packages and thats one of the major appeals of using Python. Thus, to know how and where to look for third-party software is essential to an efficient development process.\n",
        "\n",
        "Remember, you dont have to re-invent the wheel to be good at programming.\n",
        "\n",
        "Can you find a package that could have helped you in this exercise?"
      ]
    },
    {
      "cell_type": "code",
      "execution_count": null,
      "metadata": {
        "tags": [],
        "id": "z_3whCW5gYPE"
      },
      "outputs": [],
      "source": [
        "# Enter your answer or code"
      ]
    }
  ],
  "metadata": {
    "kernelspec": {
      "display_name": "Python 3 (ipykernel)",
      "language": "python",
      "name": "python3"
    },
    "language_info": {
      "codemirror_mode": {
        "name": "ipython",
        "version": 3
      },
      "file_extension": ".py",
      "mimetype": "text/x-python",
      "name": "python",
      "nbconvert_exporter": "python",
      "pygments_lexer": "ipython3",
      "version": "3.11.5"
    },
    "colab": {
      "provenance": []
    }
  },
  "nbformat": 4,
  "nbformat_minor": 0
}